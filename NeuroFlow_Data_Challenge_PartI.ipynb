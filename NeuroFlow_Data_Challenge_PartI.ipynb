{
 "cells": [
  {
   "cell_type": "markdown",
   "metadata": {},
   "source": [
    "# NeuroFlow Data Science Assessment - Part I"
   ]
  },
  {
   "cell_type": "code",
   "execution_count": 40,
   "metadata": {},
   "outputs": [],
   "source": [
    "import warnings\n",
    "warnings.filterwarnings('ignore')\n",
    "import pandas as pd\n",
    "import numpy as np\n",
    "import datetime as dt\n",
    "from matplotlib import pyplot as plt\n",
    "import seaborn as sns\n",
    "%matplotlib inline\n",
    "sns.set(style = \"darkgrid\")\n",
    "sns.set(rc={'figure.figsize':(12,10)})"
   ]
  },
  {
   "cell_type": "markdown",
   "metadata": {},
   "source": [
    "## Data Preprossing"
   ]
  },
  {
   "cell_type": "code",
   "execution_count": 2,
   "metadata": {},
   "outputs": [
    {
     "data": {
      "text/html": [
       "<div>\n",
       "<style scoped>\n",
       "    .dataframe tbody tr th:only-of-type {\n",
       "        vertical-align: middle;\n",
       "    }\n",
       "\n",
       "    .dataframe tbody tr th {\n",
       "        vertical-align: top;\n",
       "    }\n",
       "\n",
       "    .dataframe thead th {\n",
       "        text-align: right;\n",
       "    }\n",
       "</style>\n",
       "<table border=\"1\" class=\"dataframe\">\n",
       "  <thead>\n",
       "    <tr style=\"text-align: right;\">\n",
       "      <th></th>\n",
       "      <th>date</th>\n",
       "      <th>patient_id</th>\n",
       "      <th>type</th>\n",
       "      <th>patient_date_created</th>\n",
       "      <th>score</th>\n",
       "    </tr>\n",
       "  </thead>\n",
       "  <tbody>\n",
       "    <tr>\n",
       "      <th>0</th>\n",
       "      <td>2019-08-26T13:32:43.019162</td>\n",
       "      <td>8430</td>\n",
       "      <td>gad7</td>\n",
       "      <td>2019-06-03T13:23:02.63568</td>\n",
       "      <td>6</td>\n",
       "    </tr>\n",
       "    <tr>\n",
       "      <th>1</th>\n",
       "      <td>2019-11-15T17:55:11.364877</td>\n",
       "      <td>8430</td>\n",
       "      <td>gad7</td>\n",
       "      <td>2019-06-03T13:23:02.63568</td>\n",
       "      <td>1</td>\n",
       "    </tr>\n",
       "    <tr>\n",
       "      <th>2</th>\n",
       "      <td>2019-10-07T18:23:29.611351</td>\n",
       "      <td>14338</td>\n",
       "      <td>gad7</td>\n",
       "      <td>2019-06-03T13:32:30.66846</td>\n",
       "      <td>10</td>\n",
       "    </tr>\n",
       "    <tr>\n",
       "      <th>3</th>\n",
       "      <td>2019-11-04T20:16:28.610965</td>\n",
       "      <td>14338</td>\n",
       "      <td>gad7</td>\n",
       "      <td>2019-06-03T13:32:30.66846</td>\n",
       "      <td>7</td>\n",
       "    </tr>\n",
       "    <tr>\n",
       "      <th>4</th>\n",
       "      <td>2019-12-02T20:56:55.966354</td>\n",
       "      <td>14338</td>\n",
       "      <td>gad7</td>\n",
       "      <td>2019-06-03T13:32:30.66846</td>\n",
       "      <td>9</td>\n",
       "    </tr>\n",
       "  </tbody>\n",
       "</table>\n",
       "</div>"
      ],
      "text/plain": [
       "                         date  patient_id  type       patient_date_created  \\\n",
       "0  2019-08-26T13:32:43.019162        8430  gad7  2019-06-03T13:23:02.63568   \n",
       "1  2019-11-15T17:55:11.364877        8430  gad7  2019-06-03T13:23:02.63568   \n",
       "2  2019-10-07T18:23:29.611351       14338  gad7  2019-06-03T13:32:30.66846   \n",
       "3  2019-11-04T20:16:28.610965       14338  gad7  2019-06-03T13:32:30.66846   \n",
       "4  2019-12-02T20:56:55.966354       14338  gad7  2019-06-03T13:32:30.66846   \n",
       "\n",
       "   score  \n",
       "0      6  \n",
       "1      1  \n",
       "2     10  \n",
       "3      7  \n",
       "4      9  "
      ]
     },
     "execution_count": 2,
     "metadata": {},
     "output_type": "execute_result"
    }
   ],
   "source": [
    "df = pd.read_csv('phq_all_final.csv')\n",
    "df.head()"
   ]
  },
  {
   "cell_type": "code",
   "execution_count": 3,
   "metadata": {},
   "outputs": [
    {
     "data": {
      "text/plain": [
       "(53698, 5)"
      ]
     },
     "execution_count": 3,
     "metadata": {},
     "output_type": "execute_result"
    }
   ],
   "source": [
    "df.shape"
   ]
  },
  {
   "cell_type": "code",
   "execution_count": 4,
   "metadata": {},
   "outputs": [
    {
     "data": {
      "text/html": [
       "<div>\n",
       "<style scoped>\n",
       "    .dataframe tbody tr th:only-of-type {\n",
       "        vertical-align: middle;\n",
       "    }\n",
       "\n",
       "    .dataframe tbody tr th {\n",
       "        vertical-align: top;\n",
       "    }\n",
       "\n",
       "    .dataframe thead th {\n",
       "        text-align: right;\n",
       "    }\n",
       "</style>\n",
       "<table border=\"1\" class=\"dataframe\">\n",
       "  <thead>\n",
       "    <tr style=\"text-align: right;\">\n",
       "      <th></th>\n",
       "      <th>date</th>\n",
       "      <th>patient_id</th>\n",
       "      <th>type</th>\n",
       "      <th>patient_date_created</th>\n",
       "      <th>score</th>\n",
       "    </tr>\n",
       "  </thead>\n",
       "  <tbody>\n",
       "    <tr>\n",
       "      <th>count</th>\n",
       "      <td>53698</td>\n",
       "      <td>53698</td>\n",
       "      <td>53698</td>\n",
       "      <td>53698</td>\n",
       "      <td>53698</td>\n",
       "    </tr>\n",
       "    <tr>\n",
       "      <th>unique</th>\n",
       "      <td>1</td>\n",
       "      <td>1</td>\n",
       "      <td>1</td>\n",
       "      <td>1</td>\n",
       "      <td>1</td>\n",
       "    </tr>\n",
       "    <tr>\n",
       "      <th>top</th>\n",
       "      <td>False</td>\n",
       "      <td>False</td>\n",
       "      <td>False</td>\n",
       "      <td>False</td>\n",
       "      <td>False</td>\n",
       "    </tr>\n",
       "    <tr>\n",
       "      <th>freq</th>\n",
       "      <td>53698</td>\n",
       "      <td>53698</td>\n",
       "      <td>53698</td>\n",
       "      <td>53698</td>\n",
       "      <td>53698</td>\n",
       "    </tr>\n",
       "  </tbody>\n",
       "</table>\n",
       "</div>"
      ],
      "text/plain": [
       "         date patient_id   type patient_date_created  score\n",
       "count   53698      53698  53698                53698  53698\n",
       "unique      1          1      1                    1      1\n",
       "top     False      False  False                False  False\n",
       "freq    53698      53698  53698                53698  53698"
      ]
     },
     "execution_count": 4,
     "metadata": {},
     "output_type": "execute_result"
    }
   ],
   "source": [
    "df.isnull().describe()"
   ]
  },
  {
   "cell_type": "code",
   "execution_count": 5,
   "metadata": {},
   "outputs": [
    {
     "data": {
      "text/plain": [
       "15502"
      ]
     },
     "execution_count": 5,
     "metadata": {},
     "output_type": "execute_result"
    }
   ],
   "source": [
    "df['patient_id'].nunique()"
   ]
  },
  {
   "cell_type": "code",
   "execution_count": 6,
   "metadata": {},
   "outputs": [],
   "source": [
    "df['date'] = pd.to_datetime(df['date'])\n",
    "df['patient_date_created'] = pd.to_datetime(df['patient_date_created'])\n",
    "\n",
    "# extract year\n",
    "exam_year = df[['date']].apply(lambda x: dt.datetime.strftime(x['date'], '%Y'), axis=1)\n",
    "create_year = df[['patient_date_created']].apply(lambda x: dt.datetime.strftime(x['patient_date_created'], '%Y'), axis=1)\n",
    "\n",
    "# extract month\n",
    "exam_month = df[['date']].apply(lambda x: dt.datetime.strftime(x['date'], '%B'), axis=1)\n",
    "create_month = df[['patient_date_created']].apply(lambda x: dt.datetime.strftime(x['patient_date_created'], '%B'), axis=1)\n",
    "\n",
    "# extract day of the week\n",
    "exam_weekday = df[['date']].apply(lambda x: dt.datetime.strftime(x['date'], '%A'), axis=1)\n",
    "create_weekday = df[['patient_date_created']].apply(lambda x: dt.datetime.strftime(x['patient_date_created'], '%A'), axis=1)\n",
    "\n",
    "# extract time of the day\n",
    "exam_time = df[['date']].apply(lambda x: int(dt.datetime.strftime(x['date'], '%H')), axis=1)\n",
    "create_time = df[['patient_date_created']].apply(lambda x: int(dt.datetime.strftime(x['patient_date_created'], '%H')), axis=1)\n",
    "\n",
    "df['exam_year'] = exam_year\n",
    "df['create_year'] = create_year\n",
    "df['exam_month'] = exam_month\n",
    "df['create_month'] = create_month\n",
    "df['exam_weekday'] = exam_weekday\n",
    "df['create_weekday'] = create_weekday\n",
    "df['exam_time'] = exam_time\n",
    "df['create_time'] = create_time"
   ]
  },
  {
   "cell_type": "code",
   "execution_count": 7,
   "metadata": {},
   "outputs": [
    {
     "data": {
      "text/html": [
       "<div>\n",
       "<style scoped>\n",
       "    .dataframe tbody tr th:only-of-type {\n",
       "        vertical-align: middle;\n",
       "    }\n",
       "\n",
       "    .dataframe tbody tr th {\n",
       "        vertical-align: top;\n",
       "    }\n",
       "\n",
       "    .dataframe thead th {\n",
       "        text-align: right;\n",
       "    }\n",
       "</style>\n",
       "<table border=\"1\" class=\"dataframe\">\n",
       "  <thead>\n",
       "    <tr style=\"text-align: right;\">\n",
       "      <th></th>\n",
       "      <th>patient_id</th>\n",
       "      <th>type</th>\n",
       "      <th>score</th>\n",
       "      <th>exam_year</th>\n",
       "      <th>create_year</th>\n",
       "      <th>exam_month</th>\n",
       "      <th>create_month</th>\n",
       "      <th>exam_weekday</th>\n",
       "      <th>create_weekday</th>\n",
       "      <th>exam_time</th>\n",
       "      <th>create_time</th>\n",
       "    </tr>\n",
       "  </thead>\n",
       "  <tbody>\n",
       "    <tr>\n",
       "      <th>0</th>\n",
       "      <td>8430</td>\n",
       "      <td>gad7</td>\n",
       "      <td>6</td>\n",
       "      <td>2019</td>\n",
       "      <td>2019</td>\n",
       "      <td>August</td>\n",
       "      <td>June</td>\n",
       "      <td>Monday</td>\n",
       "      <td>Monday</td>\n",
       "      <td>13</td>\n",
       "      <td>13</td>\n",
       "    </tr>\n",
       "    <tr>\n",
       "      <th>1</th>\n",
       "      <td>8430</td>\n",
       "      <td>gad7</td>\n",
       "      <td>1</td>\n",
       "      <td>2019</td>\n",
       "      <td>2019</td>\n",
       "      <td>November</td>\n",
       "      <td>June</td>\n",
       "      <td>Friday</td>\n",
       "      <td>Monday</td>\n",
       "      <td>17</td>\n",
       "      <td>13</td>\n",
       "    </tr>\n",
       "    <tr>\n",
       "      <th>2</th>\n",
       "      <td>14338</td>\n",
       "      <td>gad7</td>\n",
       "      <td>10</td>\n",
       "      <td>2019</td>\n",
       "      <td>2019</td>\n",
       "      <td>October</td>\n",
       "      <td>June</td>\n",
       "      <td>Monday</td>\n",
       "      <td>Monday</td>\n",
       "      <td>18</td>\n",
       "      <td>13</td>\n",
       "    </tr>\n",
       "    <tr>\n",
       "      <th>3</th>\n",
       "      <td>14338</td>\n",
       "      <td>gad7</td>\n",
       "      <td>7</td>\n",
       "      <td>2019</td>\n",
       "      <td>2019</td>\n",
       "      <td>November</td>\n",
       "      <td>June</td>\n",
       "      <td>Monday</td>\n",
       "      <td>Monday</td>\n",
       "      <td>20</td>\n",
       "      <td>13</td>\n",
       "    </tr>\n",
       "    <tr>\n",
       "      <th>4</th>\n",
       "      <td>14338</td>\n",
       "      <td>gad7</td>\n",
       "      <td>9</td>\n",
       "      <td>2019</td>\n",
       "      <td>2019</td>\n",
       "      <td>December</td>\n",
       "      <td>June</td>\n",
       "      <td>Monday</td>\n",
       "      <td>Monday</td>\n",
       "      <td>20</td>\n",
       "      <td>13</td>\n",
       "    </tr>\n",
       "  </tbody>\n",
       "</table>\n",
       "</div>"
      ],
      "text/plain": [
       "   patient_id  type  score exam_year create_year exam_month create_month  \\\n",
       "0        8430  gad7      6      2019        2019     August         June   \n",
       "1        8430  gad7      1      2019        2019   November         June   \n",
       "2       14338  gad7     10      2019        2019    October         June   \n",
       "3       14338  gad7      7      2019        2019   November         June   \n",
       "4       14338  gad7      9      2019        2019   December         June   \n",
       "\n",
       "  exam_weekday create_weekday  exam_time  create_time  \n",
       "0       Monday         Monday         13           13  \n",
       "1       Friday         Monday         17           13  \n",
       "2       Monday         Monday         18           13  \n",
       "3       Monday         Monday         20           13  \n",
       "4       Monday         Monday         20           13  "
      ]
     },
     "execution_count": 7,
     "metadata": {},
     "output_type": "execute_result"
    }
   ],
   "source": [
    "df.drop(['date', 'patient_date_created'], inplace=True, axis=1)\n",
    "df.head()"
   ]
  },
  {
   "cell_type": "code",
   "execution_count": 8,
   "metadata": {},
   "outputs": [
    {
     "data": {
      "text/html": [
       "<div>\n",
       "<style scoped>\n",
       "    .dataframe tbody tr th:only-of-type {\n",
       "        vertical-align: middle;\n",
       "    }\n",
       "\n",
       "    .dataframe tbody tr th {\n",
       "        vertical-align: top;\n",
       "    }\n",
       "\n",
       "    .dataframe thead th {\n",
       "        text-align: right;\n",
       "    }\n",
       "</style>\n",
       "<table border=\"1\" class=\"dataframe\">\n",
       "  <thead>\n",
       "    <tr style=\"text-align: right;\">\n",
       "      <th></th>\n",
       "      <th>patient_id</th>\n",
       "      <th>type</th>\n",
       "      <th>score</th>\n",
       "      <th>exam_year</th>\n",
       "      <th>create_year</th>\n",
       "      <th>exam_month</th>\n",
       "      <th>create_month</th>\n",
       "      <th>exam_weekday</th>\n",
       "      <th>create_weekday</th>\n",
       "      <th>exam_time</th>\n",
       "      <th>create_time</th>\n",
       "      <th>severity</th>\n",
       "    </tr>\n",
       "  </thead>\n",
       "  <tbody>\n",
       "    <tr>\n",
       "      <th>0</th>\n",
       "      <td>8430</td>\n",
       "      <td>gad7</td>\n",
       "      <td>6</td>\n",
       "      <td>2019</td>\n",
       "      <td>2019</td>\n",
       "      <td>August</td>\n",
       "      <td>June</td>\n",
       "      <td>Monday</td>\n",
       "      <td>Monday</td>\n",
       "      <td>13</td>\n",
       "      <td>13</td>\n",
       "      <td>mild</td>\n",
       "    </tr>\n",
       "    <tr>\n",
       "      <th>1</th>\n",
       "      <td>8430</td>\n",
       "      <td>gad7</td>\n",
       "      <td>1</td>\n",
       "      <td>2019</td>\n",
       "      <td>2019</td>\n",
       "      <td>November</td>\n",
       "      <td>June</td>\n",
       "      <td>Friday</td>\n",
       "      <td>Monday</td>\n",
       "      <td>17</td>\n",
       "      <td>13</td>\n",
       "      <td>low</td>\n",
       "    </tr>\n",
       "    <tr>\n",
       "      <th>2</th>\n",
       "      <td>14338</td>\n",
       "      <td>gad7</td>\n",
       "      <td>10</td>\n",
       "      <td>2019</td>\n",
       "      <td>2019</td>\n",
       "      <td>October</td>\n",
       "      <td>June</td>\n",
       "      <td>Monday</td>\n",
       "      <td>Monday</td>\n",
       "      <td>18</td>\n",
       "      <td>13</td>\n",
       "      <td>mild</td>\n",
       "    </tr>\n",
       "    <tr>\n",
       "      <th>3</th>\n",
       "      <td>14338</td>\n",
       "      <td>gad7</td>\n",
       "      <td>7</td>\n",
       "      <td>2019</td>\n",
       "      <td>2019</td>\n",
       "      <td>November</td>\n",
       "      <td>June</td>\n",
       "      <td>Monday</td>\n",
       "      <td>Monday</td>\n",
       "      <td>20</td>\n",
       "      <td>13</td>\n",
       "      <td>mild</td>\n",
       "    </tr>\n",
       "    <tr>\n",
       "      <th>4</th>\n",
       "      <td>14338</td>\n",
       "      <td>gad7</td>\n",
       "      <td>9</td>\n",
       "      <td>2019</td>\n",
       "      <td>2019</td>\n",
       "      <td>December</td>\n",
       "      <td>June</td>\n",
       "      <td>Monday</td>\n",
       "      <td>Monday</td>\n",
       "      <td>20</td>\n",
       "      <td>13</td>\n",
       "      <td>mild</td>\n",
       "    </tr>\n",
       "  </tbody>\n",
       "</table>\n",
       "</div>"
      ],
      "text/plain": [
       "   patient_id  type  score exam_year create_year exam_month create_month  \\\n",
       "0        8430  gad7      6      2019        2019     August         June   \n",
       "1        8430  gad7      1      2019        2019   November         June   \n",
       "2       14338  gad7     10      2019        2019    October         June   \n",
       "3       14338  gad7      7      2019        2019   November         June   \n",
       "4       14338  gad7      9      2019        2019   December         June   \n",
       "\n",
       "  exam_weekday create_weekday  exam_time  create_time severity  \n",
       "0       Monday         Monday         13           13     mild  \n",
       "1       Friday         Monday         17           13      low  \n",
       "2       Monday         Monday         18           13     mild  \n",
       "3       Monday         Monday         20           13     mild  \n",
       "4       Monday         Monday         20           13     mild  "
      ]
     },
     "execution_count": 8,
     "metadata": {},
     "output_type": "execute_result"
    }
   ],
   "source": [
    "# group severity\n",
    "bins = [0, 5, 10, 15, 21]\n",
    "labels = ['low', 'mild', 'moderate', 'severe']\n",
    "df['severity'] = pd.cut(df['score'], bins=bins, labels=labels, include_lowest=True).astype('str')\n",
    "df.head()"
   ]
  },
  {
   "cell_type": "code",
   "execution_count": 9,
   "metadata": {},
   "outputs": [
    {
     "data": {
      "text/html": [
       "<div>\n",
       "<style scoped>\n",
       "    .dataframe tbody tr th:only-of-type {\n",
       "        vertical-align: middle;\n",
       "    }\n",
       "\n",
       "    .dataframe tbody tr th {\n",
       "        vertical-align: top;\n",
       "    }\n",
       "\n",
       "    .dataframe thead th {\n",
       "        text-align: right;\n",
       "    }\n",
       "</style>\n",
       "<table border=\"1\" class=\"dataframe\">\n",
       "  <thead>\n",
       "    <tr style=\"text-align: right;\">\n",
       "      <th></th>\n",
       "      <th>patient_id</th>\n",
       "      <th>type</th>\n",
       "      <th>score</th>\n",
       "      <th>exam_year</th>\n",
       "      <th>create_year</th>\n",
       "      <th>exam_month</th>\n",
       "      <th>create_month</th>\n",
       "      <th>exam_weekday</th>\n",
       "      <th>create_weekday</th>\n",
       "      <th>exam_time</th>\n",
       "      <th>create_time</th>\n",
       "      <th>severity</th>\n",
       "      <th>clinical_evaluation</th>\n",
       "    </tr>\n",
       "  </thead>\n",
       "  <tbody>\n",
       "    <tr>\n",
       "      <th>0</th>\n",
       "      <td>8430</td>\n",
       "      <td>gad7</td>\n",
       "      <td>6</td>\n",
       "      <td>2019</td>\n",
       "      <td>2019</td>\n",
       "      <td>August</td>\n",
       "      <td>June</td>\n",
       "      <td>Monday</td>\n",
       "      <td>Monday</td>\n",
       "      <td>13</td>\n",
       "      <td>13</td>\n",
       "      <td>mild</td>\n",
       "      <td>0</td>\n",
       "    </tr>\n",
       "    <tr>\n",
       "      <th>1</th>\n",
       "      <td>8430</td>\n",
       "      <td>gad7</td>\n",
       "      <td>1</td>\n",
       "      <td>2019</td>\n",
       "      <td>2019</td>\n",
       "      <td>November</td>\n",
       "      <td>June</td>\n",
       "      <td>Friday</td>\n",
       "      <td>Monday</td>\n",
       "      <td>17</td>\n",
       "      <td>13</td>\n",
       "      <td>low</td>\n",
       "      <td>0</td>\n",
       "    </tr>\n",
       "    <tr>\n",
       "      <th>2</th>\n",
       "      <td>14338</td>\n",
       "      <td>gad7</td>\n",
       "      <td>10</td>\n",
       "      <td>2019</td>\n",
       "      <td>2019</td>\n",
       "      <td>October</td>\n",
       "      <td>June</td>\n",
       "      <td>Monday</td>\n",
       "      <td>Monday</td>\n",
       "      <td>18</td>\n",
       "      <td>13</td>\n",
       "      <td>mild</td>\n",
       "      <td>1</td>\n",
       "    </tr>\n",
       "    <tr>\n",
       "      <th>3</th>\n",
       "      <td>14338</td>\n",
       "      <td>gad7</td>\n",
       "      <td>7</td>\n",
       "      <td>2019</td>\n",
       "      <td>2019</td>\n",
       "      <td>November</td>\n",
       "      <td>June</td>\n",
       "      <td>Monday</td>\n",
       "      <td>Monday</td>\n",
       "      <td>20</td>\n",
       "      <td>13</td>\n",
       "      <td>mild</td>\n",
       "      <td>0</td>\n",
       "    </tr>\n",
       "    <tr>\n",
       "      <th>4</th>\n",
       "      <td>14338</td>\n",
       "      <td>gad7</td>\n",
       "      <td>9</td>\n",
       "      <td>2019</td>\n",
       "      <td>2019</td>\n",
       "      <td>December</td>\n",
       "      <td>June</td>\n",
       "      <td>Monday</td>\n",
       "      <td>Monday</td>\n",
       "      <td>20</td>\n",
       "      <td>13</td>\n",
       "      <td>mild</td>\n",
       "      <td>0</td>\n",
       "    </tr>\n",
       "  </tbody>\n",
       "</table>\n",
       "</div>"
      ],
      "text/plain": [
       "   patient_id  type  score exam_year create_year exam_month create_month  \\\n",
       "0        8430  gad7      6      2019        2019     August         June   \n",
       "1        8430  gad7      1      2019        2019   November         June   \n",
       "2       14338  gad7     10      2019        2019    October         June   \n",
       "3       14338  gad7      7      2019        2019   November         June   \n",
       "4       14338  gad7      9      2019        2019   December         June   \n",
       "\n",
       "  exam_weekday create_weekday  exam_time  create_time severity  \\\n",
       "0       Monday         Monday         13           13     mild   \n",
       "1       Friday         Monday         17           13      low   \n",
       "2       Monday         Monday         18           13     mild   \n",
       "3       Monday         Monday         20           13     mild   \n",
       "4       Monday         Monday         20           13     mild   \n",
       "\n",
       "   clinical_evaluation  \n",
       "0                    0  \n",
       "1                    0  \n",
       "2                    1  \n",
       "3                    0  \n",
       "4                    0  "
      ]
     },
     "execution_count": 9,
     "metadata": {},
     "output_type": "execute_result"
    }
   ],
   "source": [
    "# need further clinical evaluation\n",
    "bins = [0, 9, 21]\n",
    "labels = [0, 1] # 0=No, 1=Yes\n",
    "df['clinical_evaluation'] = pd.cut(df['score'], bins=bins, labels=labels, include_lowest=True).astype(int)\n",
    "df.head()"
   ]
  },
  {
   "cell_type": "code",
   "execution_count": 10,
   "metadata": {},
   "outputs": [],
   "source": [
    "df.drop('type', inplace=True, axis=1)"
   ]
  },
  {
   "cell_type": "code",
   "execution_count": 11,
   "metadata": {},
   "outputs": [
    {
     "data": {
      "text/html": [
       "<div>\n",
       "<style scoped>\n",
       "    .dataframe tbody tr th:only-of-type {\n",
       "        vertical-align: middle;\n",
       "    }\n",
       "\n",
       "    .dataframe tbody tr th {\n",
       "        vertical-align: top;\n",
       "    }\n",
       "\n",
       "    .dataframe thead th {\n",
       "        text-align: right;\n",
       "    }\n",
       "</style>\n",
       "<table border=\"1\" class=\"dataframe\">\n",
       "  <thead>\n",
       "    <tr style=\"text-align: right;\">\n",
       "      <th></th>\n",
       "      <th>patient_id</th>\n",
       "      <th>score</th>\n",
       "      <th>exam_year</th>\n",
       "      <th>create_year</th>\n",
       "      <th>exam_month</th>\n",
       "      <th>create_month</th>\n",
       "      <th>exam_weekday</th>\n",
       "      <th>create_weekday</th>\n",
       "      <th>exam_time</th>\n",
       "      <th>create_time</th>\n",
       "      <th>severity</th>\n",
       "      <th>clinical_evaluation</th>\n",
       "    </tr>\n",
       "  </thead>\n",
       "  <tbody>\n",
       "    <tr>\n",
       "      <th>0</th>\n",
       "      <td>8430</td>\n",
       "      <td>6</td>\n",
       "      <td>2019</td>\n",
       "      <td>2019</td>\n",
       "      <td>August</td>\n",
       "      <td>June</td>\n",
       "      <td>Monday</td>\n",
       "      <td>Monday</td>\n",
       "      <td>13</td>\n",
       "      <td>13</td>\n",
       "      <td>mild</td>\n",
       "      <td>0</td>\n",
       "    </tr>\n",
       "    <tr>\n",
       "      <th>1</th>\n",
       "      <td>8430</td>\n",
       "      <td>1</td>\n",
       "      <td>2019</td>\n",
       "      <td>2019</td>\n",
       "      <td>November</td>\n",
       "      <td>June</td>\n",
       "      <td>Friday</td>\n",
       "      <td>Monday</td>\n",
       "      <td>17</td>\n",
       "      <td>13</td>\n",
       "      <td>low</td>\n",
       "      <td>0</td>\n",
       "    </tr>\n",
       "    <tr>\n",
       "      <th>2</th>\n",
       "      <td>14338</td>\n",
       "      <td>10</td>\n",
       "      <td>2019</td>\n",
       "      <td>2019</td>\n",
       "      <td>October</td>\n",
       "      <td>June</td>\n",
       "      <td>Monday</td>\n",
       "      <td>Monday</td>\n",
       "      <td>18</td>\n",
       "      <td>13</td>\n",
       "      <td>mild</td>\n",
       "      <td>1</td>\n",
       "    </tr>\n",
       "    <tr>\n",
       "      <th>3</th>\n",
       "      <td>14338</td>\n",
       "      <td>7</td>\n",
       "      <td>2019</td>\n",
       "      <td>2019</td>\n",
       "      <td>November</td>\n",
       "      <td>June</td>\n",
       "      <td>Monday</td>\n",
       "      <td>Monday</td>\n",
       "      <td>20</td>\n",
       "      <td>13</td>\n",
       "      <td>mild</td>\n",
       "      <td>0</td>\n",
       "    </tr>\n",
       "    <tr>\n",
       "      <th>4</th>\n",
       "      <td>14338</td>\n",
       "      <td>9</td>\n",
       "      <td>2019</td>\n",
       "      <td>2019</td>\n",
       "      <td>December</td>\n",
       "      <td>June</td>\n",
       "      <td>Monday</td>\n",
       "      <td>Monday</td>\n",
       "      <td>20</td>\n",
       "      <td>13</td>\n",
       "      <td>mild</td>\n",
       "      <td>0</td>\n",
       "    </tr>\n",
       "  </tbody>\n",
       "</table>\n",
       "</div>"
      ],
      "text/plain": [
       "   patient_id  score exam_year create_year exam_month create_month  \\\n",
       "0        8430      6      2019        2019     August         June   \n",
       "1        8430      1      2019        2019   November         June   \n",
       "2       14338     10      2019        2019    October         June   \n",
       "3       14338      7      2019        2019   November         June   \n",
       "4       14338      9      2019        2019   December         June   \n",
       "\n",
       "  exam_weekday create_weekday  exam_time  create_time severity  \\\n",
       "0       Monday         Monday         13           13     mild   \n",
       "1       Friday         Monday         17           13      low   \n",
       "2       Monday         Monday         18           13     mild   \n",
       "3       Monday         Monday         20           13     mild   \n",
       "4       Monday         Monday         20           13     mild   \n",
       "\n",
       "   clinical_evaluation  \n",
       "0                    0  \n",
       "1                    0  \n",
       "2                    1  \n",
       "3                    0  \n",
       "4                    0  "
      ]
     },
     "execution_count": 11,
     "metadata": {},
     "output_type": "execute_result"
    }
   ],
   "source": [
    "df.head()"
   ]
  },
  {
   "cell_type": "markdown",
   "metadata": {},
   "source": [
    "### Summary for the Section:\n",
    "1. There are 53698 rows in the dataset with no missing values. \n",
    "2. There are 15502 unique patients in the dataset.  \n",
    "3. I converted both exam_date and create_date columns to separate columns contains the year, month, day of the week, and time of the day. Therefore, we can use the information.  \n",
    "4. Based on the spec, I add column indicating the severity and further clinical evaluation into the dataset.  "
   ]
  },
  {
   "cell_type": "markdown",
   "metadata": {},
   "source": [
    "## Assumptions\n",
    "1. The paitent_id is unique.  \n",
    "2. Every patient responded honestly to each question.  \n",
    "3. Every patient did this test in a typical normal day of their life (not just after a claming or consulting session with therapist).  "
   ]
  },
  {
   "cell_type": "markdown",
   "metadata": {},
   "source": [
    "## Exploratory Analysis"
   ]
  },
  {
   "cell_type": "markdown",
   "metadata": {},
   "source": [
    "### Score Distribution"
   ]
  },
  {
   "cell_type": "code",
   "execution_count": 41,
   "metadata": {},
   "outputs": [
    {
     "data": {
      "image/png": "[encoded data removed]",
      "text/plain": [
       "<Figure size 864x720 with 1 Axes>"
      ]
     },
     "metadata": {},
     "output_type": "display_data"
    }
   ],
   "source": [
    "sns.countplot('score', data=df)\n",
    "plt.show()"
   ]
  },
  {
   "cell_type": "code",
   "execution_count": 42,
   "metadata": {},
   "outputs": [
    {
     "data": {
      "image/png": "[encoded data removed]",
      "text/plain": [
       "<Figure size 864x720 with 1 Axes>"
      ]
     },
     "metadata": {},
     "output_type": "display_data"
    }
   ],
   "source": [
    "sns.countplot('severity', data=df, order=['low', 'mild', 'moderate', 'severe'])\n",
    "plt.show()"
   ]
  },
  {
   "cell_type": "code",
   "execution_count": 32,
   "metadata": {},
   "outputs": [
    {
     "name": "stdout",
     "output_type": "stream",
     "text": [
      "Percentage of Each Level:\n",
      "low         65.927968\n",
      "mild        19.134791\n",
      "moderate     8.661403\n",
      "severe       6.275839\n",
      "Name: severity, dtype: float64\n"
     ]
    }
   ],
   "source": [
    "print('Percentage of Each Level:')\n",
    "print(df['severity'].value_counts(normalize=True)*100)"
   ]
  },
  {
   "cell_type": "markdown",
   "metadata": {},
   "source": [
    "#### Insights:\n",
    "1. In the dataset, most of the test results turn to be low to minimum score. There are 6% diagnoses are severe.  "
   ]
  },
  {
   "cell_type": "markdown",
   "metadata": {},
   "source": [
    "### Relationship Between Month of the Test and Further Clinical Evaluation"
   ]
  },
  {
   "cell_type": "code",
   "execution_count": 43,
   "metadata": {},
   "outputs": [
    {
     "data": {
      "image/png": "[encoded data removed]",
      "text/plain": [
       "<Figure size 864x720 with 1 Axes>"
      ]
     },
     "metadata": {},
     "output_type": "display_data"
    }
   ],
   "source": [
    "order = ['January', 'February', 'March', 'April', 'May', 'June', 'July', 'August', 'September', 'October', 'November', 'December']\n",
    "sns.countplot('exam_month', hue='clinical_evaluation', data=df, order=order)\n",
    "plt.show()"
   ]
  },
  {
   "cell_type": "code",
   "execution_count": 37,
   "metadata": {
    "scrolled": true
   },
   "outputs": [
    {
     "data": {
      "image/png": "[encoded data removed]",
      "text/plain": [
       "<Figure size 432x288 with 1 Axes>"
      ]
     },
     "metadata": {},
     "output_type": "display_data"
    }
   ],
   "source": [
    "sns.catplot(x='exam_month', y='clinical_evaluation', data=df,\n",
    "            kind='bar', order=order, ci=None, aspect=1.5, height=4)\n",
    "plt.ylabel('Probability of Further Clinical Evaluation')\n",
    "plt.xticks(rotation=45)\n",
    "plt.show()"
   ]
  },
  {
   "cell_type": "markdown",
   "metadata": {},
   "source": [
    "#### Insights:\n",
    "1. We can see that in August, the least amount of people did the test. However, there has a greater probability that anyone took the test around that time need further clinical evaluation.  \n",
    "2. We can also see that there is a linear increase trends in the number of people taking the test. I would assume that this might be the website is trying to lauch the test or product to the system. Therefore, there will be a trend of increase.  \n"
   ]
  },
  {
   "cell_type": "markdown",
   "metadata": {},
   "source": [
    "### Relationship Between the Day of Week and Further Clinical Evaluation"
   ]
  },
  {
   "cell_type": "code",
   "execution_count": 39,
   "metadata": {},
   "outputs": [
    {
     "data": {
      "image/png": "[encoded data removed]",
      "text/plain": [
       "<Figure size 1080x720 with 1 Axes>"
      ]
     },
     "metadata": {},
     "output_type": "display_data"
    }
   ],
   "source": [
    "order = ['Monday', 'Tuesday', 'Wednesday', 'Thursday', 'Friday', 'Saturday', 'Sunday']\n",
    "sns.countplot('exam_weekday', hue='clinical_evaluation', data=df, order=order)\n",
    "plt.show()"
   ]
  },
  {
   "cell_type": "code",
   "execution_count": 17,
   "metadata": {},
   "outputs": [
    {
     "data": {
      "image/png": "[encoded data removed]",
      "text/plain": [
       "<Figure size 540x360 with 1 Axes>"
      ]
     },
     "metadata": {},
     "output_type": "display_data"
    }
   ],
   "source": [
    "sns.catplot(x='exam_weekday', y='clinical_evaluation', data=df,\n",
    "           kind='bar', aspect=1.5, ci=None, order=order)\n",
    "plt.ylabel('Probability of Further Clinical Evaluation')\n",
    "plt.show()"
   ]
  },
  {
   "cell_type": "markdown",
   "metadata": {},
   "source": [
    "#### Insights:\n",
    "1. We can see that the number of people taking test on the weekend is significantly less than that of people taking on weekday. However, the probability of further clinical evaluation is greater on weekend than on weekdays.  "
   ]
  },
  {
   "cell_type": "markdown",
   "metadata": {},
   "source": [
    "### Relationship Between Time of the Day and Further Clinical Evaluation"
   ]
  },
  {
   "cell_type": "code",
   "execution_count": 20,
   "metadata": {},
   "outputs": [
    {
     "data": {
      "image/png": "[encoded data removed]",
      "text/plain": [
       "<Figure size 1080x720 with 1 Axes>"
      ]
     },
     "metadata": {},
     "output_type": "display_data"
    }
   ],
   "source": [
    "order = np.arange(24)\n",
    "sns.countplot('exam_time', hue='clinical_evaluation', data=df, order=order)\n",
    "plt.show()"
   ]
  },
  {
   "cell_type": "code",
   "execution_count": 22,
   "metadata": {},
   "outputs": [
    {
     "data": {
      "image/png": "[encoded data removed]",
      "text/plain": [
       "<Figure size 540x360 with 1 Axes>"
      ]
     },
     "metadata": {},
     "output_type": "display_data"
    }
   ],
   "source": [
    "sns.catplot(x='exam_time', y='clinical_evaluation', data=df, kind='bar',\n",
    "           aspect=1.5, ci=None, order=order)\n",
    "plt.ylabel('Probability of Further Clinical Evaluation')\n",
    "plt.show()"
   ]
  },
  {
   "cell_type": "markdown",
   "metadata": {},
   "source": [
    "#### Insights:\n",
    "1. We could see that most of people took the test in the afternoon (after 12pm). However, the probability of needing further evaluation is greater in general in the first half of the day.  \n",
    "2. People taking in the first half of the day might have some sleeping disorder along with the GAD. This might make sense for midnight test cases. Since they are anxious and they can't fall asleep. However, we can see that early morning's probability is also higher than afternoon's. Therefore, there might be some connection between time of taking the test and the result. "
   ]
  },
  {
   "cell_type": "markdown",
   "metadata": {},
   "source": [
    "## Recommendations for Further Data Collection\n",
    "1. It would be good to have some information such as gender, ethnicity, age, city or state, marital status, employement, and income etc.  \n",
    "2. It would be good to track the therapy engagement of patients. For example, if this test is perform generally once per month, then we should track how many session they have with their care providers.  "
   ]
  },
  {
   "cell_type": "markdown",
   "metadata": {},
   "source": [
    "## Suggestions for Further Investigation or Reasearch\n",
    "Since I saw a interesting pattern between the day of week and the result and between the time of the day and the result, I would suggest to do more investigation on that. If it is proven to be significant, we might want to set a certain taking test day for each patient once a month. Also, we might need to ask them to take the test twice (morning and afternoon) to get a more accurate result.  "
   ]
  }
 ],
 "metadata": {
  "kernelspec": {
   "display_name": "Python 3",
   "language": "python",
   "name": "python3"
  },
  "language_info": {
   "codemirror_mode": {
    "name": "ipython",
    "version": 3
   },
   "file_extension": ".py",
   "mimetype": "text/x-python",
   "name": "python",
   "nbconvert_exporter": "python",
   "pygments_lexer": "ipython3",
   "version": "3.8.5"
  }
 },
 "nbformat": 4,
 "nbformat_minor": 4
}
